{
 "cells": [
  {
   "cell_type": "code",
   "execution_count": 1,
   "metadata": {},
   "outputs": [],
   "source": [
    "import requests"
   ]
  },
  {
   "cell_type": "code",
   "execution_count": 2,
   "metadata": {},
   "outputs": [],
   "source": [
    "API_KEY = \"\"\n",
    "url = \"https://api.yelp.com/v3/businesses/search\"\n"
   ]
  },
  {
   "cell_type": "code",
   "execution_count": 3,
   "metadata": {},
   "outputs": [],
   "source": [
    "DEFAULT_TERM = \"restaurants\"\n",
    "DEFAULT_LOCATION = \"New York City NY\"\n",
    "SORT = \"rating\"\n",
    "LIMIT = \"50\"\n",
    "OFFSET = \"950\""
   ]
  },
  {
   "cell_type": "code",
   "execution_count": 4,
   "metadata": {},
   "outputs": [],
   "source": [
    "headers = {'Authorization': 'Bearer {}'.format(API_KEY)}\n"
   ]
  },
  {
   "cell_type": "code",
   "execution_count": 5,
   "metadata": {},
   "outputs": [],
   "source": [
    "url_params = {\n",
    "'term': DEFAULT_TERM, \n",
    "'location': DEFAULT_LOCATION, \n",
    "'sort_by': SORT,\n",
    "'limit':LIMIT,\n",
    "'offset':OFFSET\n",
    "}\n",
    "\n"
   ]
  },
  {
   "cell_type": "code",
   "execution_count": 6,
   "metadata": {},
   "outputs": [],
   "source": [
    "response = requests.request('GET', url, headers=headers, params=url_params)\n"
   ]
  },
  {
   "cell_type": "code",
   "execution_count": 7,
   "metadata": {
    "scrolled": true
   },
   "outputs": [],
   "source": [
    "name = []\n",
    "rating = []\n",
    "reviews = []\n",
    "address = []\n",
    "zip_code = []\n",
    "url = []\n",
    "lat = []\n",
    "lng = []\n",
    "for business in response.json()[\"businesses\"]:\n",
    "        name.append(business[\"name\"])\n",
    "        rating.append(business[\"rating\"])\n",
    "        reviews.append(business[\"review_count\"])\n",
    "        address.append(business[\"location\"][\"display_address\"][0])\n",
    "        zip_code.append(business[\"location\"][\"zip_code\"])\n",
    "        url.append(business[\"url\"])\n",
    "        lat.append(business[\"coordinates\"][\"latitude\"])\n",
    "        lng.append(business[\"coordinates\"][\"longitude\"])"
   ]
  },
  {
   "cell_type": "code",
   "execution_count": 8,
   "metadata": {},
   "outputs": [],
   "source": [
    "data = {\"Name\":name,\"Rating\":rating,\"Review Count\":reviews,\"Street Address\":address,\n",
    "       \"Zip Code\":zip_code,\"Url\":url,\"Latitude\":lat,\"Longitude\":lng}"
   ]
  },
  {
   "cell_type": "code",
   "execution_count": 9,
   "metadata": {},
   "outputs": [],
   "source": [
    "import pandas as pd\n",
    "df = pd.DataFrame(data)"
   ]
  },
  {
   "cell_type": "code",
   "execution_count": 10,
   "metadata": {},
   "outputs": [],
   "source": [
    "df.to_csv(\"../951-1000-restaurants.csv\")"
   ]
  },
  {
   "cell_type": "code",
   "execution_count": 11,
   "metadata": {},
   "outputs": [],
   "source": [
    "df1 = pd.read_csv(\"../951-1000-restaurants.csv\")\n",
    "df2 = pd.read_csv(\"../901-950-restaurants.csv\")\n",
    "df3 = pd.read_csv(\"../851-900-restaurants.csv\")\n",
    "df4 = pd.read_csv(\"../801-850-restaurants.csv\")\n",
    "df5 = pd.read_csv(\"../751-800-restaurants.csv\")\n",
    "df6 = pd.read_csv(\"../701-750-restaurants.csv\")\n",
    "df7 = pd.read_csv(\"../651-700-restaurants.csv\")\n",
    "df8 = pd.read_csv(\"../601-650-restaurants.csv\")\n",
    "df9 = pd.read_csv(\"../551-600-restaurants.csv\")\n",
    "df10 = pd.read_csv(\"../501-550-restaurants.csv\")\n",
    "df11= pd.read_csv(\"../451-500-restaurants.csv\")\n",
    "df12= pd.read_csv(\"../401-450-restaurants.csv\")\n",
    "df13= pd.read_csv(\"../351-400-restaurants.csv\")\n",
    "df14= pd.read_csv(\"../301-350-restaurants.csv\")\n",
    "df15= pd.read_csv(\"../251-300-restaurants.csv\")\n",
    "df16= pd.read_csv(\"../201-250-restaurants.csv\")\n",
    "df17= pd.read_csv(\"../151-200-restaurants.csv\")\n",
    "df18= pd.read_csv(\"../101-150-restaurants.csv\")\n",
    "df19= pd.read_csv(\"../51-100-restaurants.csv\")\n",
    "df20= pd.read_csv(\"../0-50-restaurants.csv\")"
   ]
  },
  {
   "cell_type": "code",
   "execution_count": 12,
   "metadata": {},
   "outputs": [
    {
     "data": {
      "text/html": [
       "<div>\n",
       "<style scoped>\n",
       "    .dataframe tbody tr th:only-of-type {\n",
       "        vertical-align: middle;\n",
       "    }\n",
       "\n",
       "    .dataframe tbody tr th {\n",
       "        vertical-align: top;\n",
       "    }\n",
       "\n",
       "    .dataframe thead th {\n",
       "        text-align: right;\n",
       "    }\n",
       "</style>\n",
       "<table border=\"1\" class=\"dataframe\">\n",
       "  <thead>\n",
       "    <tr style=\"text-align: right;\">\n",
       "      <th></th>\n",
       "      <th>Unnamed: 0</th>\n",
       "      <th>Name</th>\n",
       "      <th>Rating</th>\n",
       "      <th>Review Count</th>\n",
       "      <th>Street Address</th>\n",
       "      <th>Zip Code</th>\n",
       "      <th>Url</th>\n",
       "      <th>Latitude</th>\n",
       "      <th>Longitude</th>\n",
       "      <th>Alias</th>\n",
       "    </tr>\n",
       "  </thead>\n",
       "  <tbody>\n",
       "    <tr>\n",
       "      <th>0</th>\n",
       "      <td>0</td>\n",
       "      <td>Jun-Men Ramen Bar</td>\n",
       "      <td>4.0</td>\n",
       "      <td>620</td>\n",
       "      <td>249 9th Ave</td>\n",
       "      <td>10001</td>\n",
       "      <td>https://www.yelp.com/biz/jun-men-ramen-bar-new...</td>\n",
       "      <td>40.748209</td>\n",
       "      <td>-74.000470</td>\n",
       "      <td>NaN</td>\n",
       "    </tr>\n",
       "    <tr>\n",
       "      <th>1</th>\n",
       "      <td>1</td>\n",
       "      <td>Fuyu Ramen</td>\n",
       "      <td>4.5</td>\n",
       "      <td>123</td>\n",
       "      <td>4617 Queens Blvd</td>\n",
       "      <td>11104</td>\n",
       "      <td>https://www.yelp.com/biz/fuyu-ramen-sunnyside-...</td>\n",
       "      <td>40.743478</td>\n",
       "      <td>-73.918057</td>\n",
       "      <td>NaN</td>\n",
       "    </tr>\n",
       "    <tr>\n",
       "      <th>2</th>\n",
       "      <td>2</td>\n",
       "      <td>Kesté Pizza &amp; Vino</td>\n",
       "      <td>4.0</td>\n",
       "      <td>1406</td>\n",
       "      <td>271 Bleecker St</td>\n",
       "      <td>10014</td>\n",
       "      <td>https://www.yelp.com/biz/kest%C3%A9-pizza-and-...</td>\n",
       "      <td>40.731540</td>\n",
       "      <td>-74.002930</td>\n",
       "      <td>NaN</td>\n",
       "    </tr>\n",
       "    <tr>\n",
       "      <th>3</th>\n",
       "      <td>3</td>\n",
       "      <td>Ashoka on 2nd Avenue</td>\n",
       "      <td>4.5</td>\n",
       "      <td>144</td>\n",
       "      <td>1718 2nd Ave</td>\n",
       "      <td>10128</td>\n",
       "      <td>https://www.yelp.com/biz/ashoka-on-2nd-avenue-...</td>\n",
       "      <td>40.779855</td>\n",
       "      <td>-73.950090</td>\n",
       "      <td>NaN</td>\n",
       "    </tr>\n",
       "    <tr>\n",
       "      <th>4</th>\n",
       "      <td>4</td>\n",
       "      <td>Craft House</td>\n",
       "      <td>4.5</td>\n",
       "      <td>330</td>\n",
       "      <td>60 Vanduzer St</td>\n",
       "      <td>10301</td>\n",
       "      <td>https://www.yelp.com/biz/craft-house-tompkinsv...</td>\n",
       "      <td>40.636373</td>\n",
       "      <td>-74.077543</td>\n",
       "      <td>NaN</td>\n",
       "    </tr>\n",
       "  </tbody>\n",
       "</table>\n",
       "</div>"
      ],
      "text/plain": [
       "   Unnamed: 0                  Name  Rating  Review Count    Street Address  \\\n",
       "0           0     Jun-Men Ramen Bar     4.0           620       249 9th Ave   \n",
       "1           1            Fuyu Ramen     4.5           123  4617 Queens Blvd   \n",
       "2           2    Kesté Pizza & Vino     4.0          1406   271 Bleecker St   \n",
       "3           3  Ashoka on 2nd Avenue     4.5           144      1718 2nd Ave   \n",
       "4           4           Craft House     4.5           330    60 Vanduzer St   \n",
       "\n",
       "   Zip Code                                                Url   Latitude  \\\n",
       "0     10001  https://www.yelp.com/biz/jun-men-ramen-bar-new...  40.748209   \n",
       "1     11104  https://www.yelp.com/biz/fuyu-ramen-sunnyside-...  40.743478   \n",
       "2     10014  https://www.yelp.com/biz/kest%C3%A9-pizza-and-...  40.731540   \n",
       "3     10128  https://www.yelp.com/biz/ashoka-on-2nd-avenue-...  40.779855   \n",
       "4     10301  https://www.yelp.com/biz/craft-house-tompkinsv...  40.636373   \n",
       "\n",
       "   Longitude Alias  \n",
       "0 -74.000470   NaN  \n",
       "1 -73.918057   NaN  \n",
       "2 -74.002930   NaN  \n",
       "3 -73.950090   NaN  \n",
       "4 -74.077543   NaN  "
      ]
     },
     "execution_count": 12,
     "metadata": {},
     "output_type": "execute_result"
    }
   ],
   "source": [
    "df_all = pd.concat([df1, df2, df3, df4, df5, df6, df7, df8, df9, \n",
    "                df10,df11,df12,df13,df14,df15,df16,df17,df18,df19,df20])\n",
    "df_all.head()"
   ]
  },
  {
   "cell_type": "code",
   "execution_count": 13,
   "metadata": {},
   "outputs": [],
   "source": [
    "df_all.to_csv(\"../all-restaurants.csv\")"
   ]
  },
  {
   "cell_type": "code",
   "execution_count": null,
   "metadata": {},
   "outputs": [],
   "source": []
  }
 ],
 "metadata": {
  "kernelspec": {
   "display_name": "Python 3",
   "language": "python",
   "name": "python3"
  },
  "language_info": {
   "codemirror_mode": {
    "name": "ipython",
    "version": 3
   },
   "file_extension": ".py",
   "mimetype": "text/x-python",
   "name": "python",
   "nbconvert_exporter": "python",
   "pygments_lexer": "ipython3",
   "version": "3.7.6"
  }
 },
 "nbformat": 4,
 "nbformat_minor": 4
}
